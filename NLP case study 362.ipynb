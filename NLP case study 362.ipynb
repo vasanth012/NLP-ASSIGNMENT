{
 "cells": [
  {
   "cell_type": "code",
   "execution_count": 2,
   "id": "490baf28",
   "metadata": {},
   "outputs": [],
   "source": [
    "import pandas as pd\n",
    "import re\n",
    "from nltk.tokenize import word_tokenize\n",
    "from nltk.corpus import stopwords\n",
    "from nltk.stem import WordNetLemmatizer\n",
    "import nltk"
   ]
  },
  {
   "cell_type": "code",
   "execution_count": 3,
   "id": "6e838800",
   "metadata": {},
   "outputs": [
    {
     "name": "stderr",
     "output_type": "stream",
     "text": [
      "[nltk_data] Downloading package punkt_tab to\n",
      "[nltk_data]     C:\\Users\\goutham\\AppData\\Roaming\\nltk_data...\n",
      "[nltk_data]   Package punkt_tab is already up-to-date!\n"
     ]
    }
   ],
   "source": [
    "import nltk\n",
    "nltk.download('punkt_tab')\n",
    "file_location = \"Dataset-SA.csv\"\n",
    "df = pd.read_csv(file_location)"
   ]
  },
  {
   "cell_type": "code",
   "execution_count": 4,
   "id": "737dfc1c",
   "metadata": {},
   "outputs": [
    {
     "name": "stdout",
     "output_type": "stream",
     "text": [
      "Dataset contains:\n",
      "                                        product_name product_price Rate  \\\n",
      "0  Candes 12 L Room/Personal Air Cooler??????(Whi...          3999    5   \n",
      "1  Candes 12 L Room/Personal Air Cooler??????(Whi...          3999    5   \n",
      "2  Candes 12 L Room/Personal Air Cooler??????(Whi...          3999    3   \n",
      "3  Candes 12 L Room/Personal Air Cooler??????(Whi...          3999    1   \n",
      "4  Candes 12 L Room/Personal Air Cooler??????(Whi...          3999    3   \n",
      "\n",
      "            Review                                            Summary  \\\n",
      "0           super!  great cooler excellent air flow and for this p...   \n",
      "1          awesome              best budget 2 fit cooler nice cooling   \n",
      "2             fair  the quality is good but the power of air is de...   \n",
      "3  useless product                  very bad product its a only a fan   \n",
      "4             fair                                      ok ok product   \n",
      "\n",
      "  Sentiment  \n",
      "0  positive  \n",
      "1  positive  \n",
      "2  positive  \n",
      "3  negative  \n",
      "4   neutral  \n"
     ]
    }
   ],
   "source": [
    "print(\"Dataset contains:\")\n",
    "print(df.head())"
   ]
  },
  {
   "cell_type": "code",
   "execution_count": 5,
   "id": "11d4c780",
   "metadata": {},
   "outputs": [
    {
     "data": {
      "text/plain": [
       "positive    166581\n",
       "negative     28232\n",
       "neutral      10239\n",
       "Name: Sentiment, dtype: int64"
      ]
     },
     "execution_count": 5,
     "metadata": {},
     "output_type": "execute_result"
    }
   ],
   "source": [
    "df['Sentiment'].value_counts()"
   ]
  },
  {
   "cell_type": "code",
   "execution_count": 6,
   "id": "2ef1d8b6",
   "metadata": {},
   "outputs": [
    {
     "name": "stdout",
     "output_type": "stream",
     "text": [
      "            Review     cleaned_text\n",
      "0           super!            super\n",
      "1          awesome          awesome\n",
      "2             fair             fair\n",
      "3  useless product  useless product\n",
      "4             fair             fair\n"
     ]
    }
   ],
   "source": [
    "def clean_text(text):\n",
    "    if isinstance(text, str):\n",
    "        text = text.lower()\n",
    "        \n",
    "        text = re.sub(r'[^a-z\\s]', '', text)\n",
    "        \n",
    "        stop_words = set(stopwords.words('english'))\n",
    "        text = ' '.join([word for word in text.split() if word not in stop_words])\n",
    "    else:\n",
    "        text = ''\n",
    "    \n",
    "    return text\n",
    "\n",
    "df['cleaned_text'] = df['Review'].apply(clean_text)\n",
    "\n",
    "print(df[['Review', 'cleaned_text']].head())"
   ]
  },
  {
   "cell_type": "code",
   "execution_count": 7,
   "id": "4959ee60",
   "metadata": {},
   "outputs": [],
   "source": [
    "def clean_and_tokenize(text):\n",
    "    if isinstance(text, str):\n",
    "        text = text.lower()\n",
    "        text = re.sub(r'[^a-z\\s]', '', text)\n",
    "        stop_words = set(stopwords.words('english'))\n",
    "        text = ' '.join([word for word in text.split() if word not in stop_words])\n",
    "        \n",
    "        tokens = word_tokenize(text)\n",
    "    else:\n",
    "        tokens = []\n",
    "    \n",
    "    return tokens\n",
    "\n",
    "df['tokens'] = df['Review'].apply(clean_and_tokenize)"
   ]
  },
  {
   "cell_type": "code",
   "execution_count": 9,
   "id": "3da56d81",
   "metadata": {},
   "outputs": [
    {
     "name": "stdout",
     "output_type": "stream",
     "text": [
      "            Review   lemmatized_tokens\n",
      "0           super!             [super]\n",
      "1          awesome           [awesome]\n",
      "2             fair              [fair]\n",
      "3  useless product  [useless, product]\n",
      "4             fair              [fair]\n"
     ]
    }
   ],
   "source": [
    "from nltk.stem import WordNetLemmatizer\n",
    "lemmatizer = WordNetLemmatizer()\n",
    "\n",
    "def clean_tokenize_lemmatize(text):\n",
    "    if isinstance(text, str):\n",
    "        text = text.lower()\n",
    "        \n",
    "        text = re.sub(r'[^a-z\\s]', '', text)\n",
    "        \n",
    "        stop_words = set(stopwords.words('english'))\n",
    "        text = ' '.join([word for word in text.split() if word not in stop_words])\n",
    "        \n",
    "        tokens = text.split()\n",
    "        \n",
    "        lemmatized_tokens = [lemmatizer.lemmatize(word) for word in tokens]\n",
    "    else:\n",
    "        lemmatized_tokens = []\n",
    "    \n",
    "    return lemmatized_tokens\n",
    "\n",
    "df['lemmatized_tokens'] = df['Review'].apply(clean_tokenize_lemmatize)\n",
    "\n",
    "print(df[['Review', 'lemmatized_tokens']].head())"
   ]
  },
  {
   "cell_type": "code",
   "execution_count": null,
   "id": "6506f99f",
   "metadata": {},
   "outputs": [],
   "source": []
  }
 ],
 "metadata": {
  "kernelspec": {
   "display_name": "Python 3 (ipykernel)",
   "language": "python",
   "name": "python3"
  },
  "language_info": {
   "codemirror_mode": {
    "name": "ipython",
    "version": 3
   },
   "file_extension": ".py",
   "mimetype": "text/x-python",
   "name": "python",
   "nbconvert_exporter": "python",
   "pygments_lexer": "ipython3",
   "version": "3.11.4"
  }
 },
 "nbformat": 4,
 "nbformat_minor": 5
}
